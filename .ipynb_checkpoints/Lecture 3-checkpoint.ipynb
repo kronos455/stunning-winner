{
 "cells": [
  {
   "cell_type": "raw",
   "metadata": {},
   "source": [
    "def main():\n",
    "    # Use a set to remove the duplicates from a list.\n",
    "    words = [\"nudge\", \"nudge\", \"wink\", \"wink\"]\n",
    "    terms = set(words)\n",
    "    print(terms, \" \", \"This is a set.\")\n",
    "    words = list(terms)\n",
    "    print(words, \" This is a list.\")\n",
    "    \n",
    "    # Demonstrate the effect of the add method.\n",
    "    terms.add(\"nudge\") #Will have no effect since \"nudge\" was already in the set.\n",
    "    terms.add(\"maybe\")\n",
    "    print(terms, \" This is a set. Added 'nudge' & 'maybe' using the 'add' method.\")\n",
    "    \n",
    "    # Demonstrate the effect of the discard method.\n",
    "    terms.discard(\"nudge\")\n",
    "    print(terms, \" The word 'nudge' was removed from the set.\") #The word \"nudge\" was removed from the set.\n",
    "    \n",
    "    # Convert the set to a tuple.\n",
    "    words = tuple(terms)\n",
    "    print(words, \" This is a tuple.\")\n",
    "    \n",
    "main()"
   ]
  },
  {
   "cell_type": "raw",
   "metadata": {},
   "source": [
    "{x * x for x in range(-3, 3)} # This is a set and an example of set comprehension."
   ]
  },
  {
   "cell_type": "raw",
   "metadata": {},
   "source": [
    "def main():\n",
    "    ## Demonstrate set-theoretic methods.\n",
    "    # Use the two files to create the two sets.\n",
    "    infile = open(\"File1.txt\", 'r')\n",
    "    firstSet = {line.rstrip() + \"\\n\" for line in infile}\n",
    "    infile.close()\n",
    "    infile = open(\"File2.txt\", 'r')\n",
    "    secondSet = {line.rstrip() + \"\\n\" for line in infile}\n",
    "    infile.close()\n",
    "    # Create files containing the union, intersection, and \n",
    "    # difference of the original two files.\n",
    "    outfile = open(\"Union.txt\", 'w')\n",
    "    outfile.writelines(firstSet.union(secondSet))\n",
    "    outfile.close()\n",
    "    outfile = open(\"Intersection.txt\", 'w')\n",
    "    outfile.writelines(firstSet.intersection(secondSet))\n",
    "    outfile.close()\n",
    "    outfile = open(\"Difference.txt\", 'w')\n",
    "    outfile.writelines(firstSet.difference(secondSet))\n",
    "    outfile.close()\n",
    "    \n",
    "main()\n",
    "    "
   ]
  },
  {
   "cell_type": "code",
   "execution_count": null,
   "metadata": {
    "collapsed": true
   },
   "outputs": [],
   "source": []
  }
 ],
 "metadata": {
  "celltoolbar": "Raw Cell Format",
  "kernelspec": {
   "display_name": "Python 3",
   "language": "python",
   "name": "python3"
  },
  "language_info": {
   "codemirror_mode": {
    "name": "ipython",
    "version": 3
   },
   "file_extension": ".py",
   "mimetype": "text/x-python",
   "name": "python",
   "nbconvert_exporter": "python",
   "pygments_lexer": "ipython3",
   "version": "3.5.2"
  }
 },
 "nbformat": 4,
 "nbformat_minor": 0
}
