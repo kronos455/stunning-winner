{
 "cells": [
  {
   "cell_type": "code",
   "execution_count": 22,
   "metadata": {
    "collapsed": false,
    "raw_mimetype": "text/markdown"
   },
   "outputs": [
    {
     "name": "stdout",
     "output_type": "stream",
     "text": [
      "{'wink', 'nudge'}   This is a set.\n",
      "['wink', 'nudge']  This is a list.\n",
      "{'wink', 'nudge', 'maybe'}  This is a set. Added 'nudge' & 'maybe' using the 'add' method.\n",
      "{'wink', 'maybe'}  The word 'nudge' was removed from the set.\n",
      "('wink', 'maybe')  This is a tuple.\n"
     ]
    }
   ],
   "source": [
    "def main():\n",
    "    # Use a set to remove the duplicates from a list.\n",
    "    words = [\"nudge\", \"nudge\", \"wink\", \"wink\"]\n",
    "    terms = set(words)\n",
    "    print(terms, \" \", \"This is a set.\")\n",
    "    words = list(terms)\n",
    "    print(words, \" This is a list.\")\n",
    "    \n",
    "    # Demonstrate the effect of the add method.\n",
    "    terms.add(\"nudge\") #Will have no effect since \"nudge\" was already in the set.\n",
    "    terms.add(\"maybe\")\n",
    "    print(terms, \" This is a set. Added 'nudge' & 'maybe' using the 'add' method.\")\n",
    "    \n",
    "    # Demonstrate the effect of the discard method.\n",
    "    terms.discard(\"nudge\")\n",
    "    print(terms, \" The word 'nudge' was removed from the set.\") #The word \"nudge\" was removed from the set.\n",
    "    \n",
    "    # Convert the set to a tuple.\n",
    "    words = tuple(terms)\n",
    "    print(words, \" This is a tuple.\")\n",
    "    \n",
    "main()"
   ]
  },
  {
   "cell_type": "code",
   "execution_count": 23,
   "metadata": {
    "collapsed": false,
    "raw_mimetype": "text/x-python"
   },
   "outputs": [
    {
     "data": {
      "text/plain": [
       "{0, 1, 4, 9}"
      ]
     },
     "execution_count": 23,
     "metadata": {},
     "output_type": "execute_result"
    }
   ],
   "source": [
    "{x * x for x in range(-3, 3)} # This is a set and an example of set comprehension."
   ]
  },
  {
   "cell_type": "code",
   "execution_count": 24,
   "metadata": {
    "collapsed": true,
    "raw_mimetype": "text/markdown"
   },
   "outputs": [],
   "source": [
    "def main():\n",
    "    ## Demonstrate set-theoretic methods.\n",
    "    # Use the two files to create the two sets.\n",
    "    infile = open(\"File1.txt\", 'r')\n",
    "    firstSet = {line.rstrip() + \"\\n\" for line in infile}\n",
    "    infile.close()\n",
    "    infile = open(\"File2.txt\", 'r')\n",
    "    secondSet = {line.rstrip() + \"\\n\" for line in infile}\n",
    "    infile.close()\n",
    "    # Create files containing the union, intersection, and \n",
    "    # difference of the original two files.\n",
    "    outfile = open(\"Union.txt\", 'w')\n",
    "    outfile.writelines(firstSet.union(secondSet))\n",
    "    outfile.close()\n",
    "    outfile = open(\"Intersection.txt\", 'w')\n",
    "    outfile.writelines(firstSet.intersection(secondSet))\n",
    "    outfile.close()\n",
    "    outfile = open(\"Difference.txt\", 'w')\n",
    "    outfile.writelines(firstSet.difference(secondSet))\n",
    "    outfile.close()\n",
    "    \n",
    "main()\n",
    "    "
   ]
  },
  {
   "cell_type": "code",
   "execution_count": 25,
   "metadata": {
    "collapsed": false
   },
   "outputs": [
    {
     "ename": "NameError",
     "evalue": "name 'listOfNumbers' is not defined",
     "output_type": "error",
     "traceback": [
      "\u001b[0;31m---------------------------------------------------------------------------\u001b[0m",
      "\u001b[0;31mNameError\u001b[0m                                 Traceback (most recent call last)",
      "\u001b[0;32m<ipython-input-25-5117dbf8c047>\u001b[0m in \u001b[0;36m<module>\u001b[0;34m()\u001b[0m\n\u001b[1;32m     39\u001b[0m     \u001b[0;32mreturn\u001b[0m \u001b[0mstandardDeviation\u001b[0m\u001b[0;34m\u001b[0m\u001b[0m\n\u001b[1;32m     40\u001b[0m \u001b[0;34m\u001b[0m\u001b[0m\n\u001b[0;32m---> 41\u001b[0;31m \u001b[0mmain\u001b[0m\u001b[0;34m(\u001b[0m\u001b[0;34m)\u001b[0m\u001b[0;34m\u001b[0m\u001b[0m\n\u001b[0m\u001b[1;32m     42\u001b[0m \u001b[0;34m\u001b[0m\u001b[0m\n",
      "\u001b[0;32m<ipython-input-25-5117dbf8c047>\u001b[0m in \u001b[0;36mmain\u001b[0;34m()\u001b[0m\n\u001b[1;32m      3\u001b[0m     \u001b[0mareasAsStrings\u001b[0m \u001b[0;34m=\u001b[0m \u001b[0mextractField\u001b[0m\u001b[0;34m(\u001b[0m\u001b[0;34m\"UN.txt\"\u001b[0m\u001b[0;34m,\u001b[0m \u001b[0;36m4\u001b[0m\u001b[0;34m)\u001b[0m \u001b[0;31m# place areas in a list.\u001b[0m\u001b[0;34m\u001b[0m\u001b[0m\n\u001b[1;32m      4\u001b[0m     \u001b[0mareas\u001b[0m \u001b[0;34m=\u001b[0m \u001b[0;34m[\u001b[0m\u001b[0meval\u001b[0m\u001b[0;34m(\u001b[0m\u001b[0mnum\u001b[0m\u001b[0;34m)\u001b[0m \u001b[0;32mfor\u001b[0m \u001b[0mnum\u001b[0m \u001b[0;32min\u001b[0m \u001b[0mareasAsStrings\u001b[0m\u001b[0;34m]\u001b[0m\u001b[0;34m\u001b[0m\u001b[0m\n\u001b[0;32m----> 5\u001b[0;31m     \u001b[0mdisplaySomeStatistics\u001b[0m\u001b[0;34m(\u001b[0m\u001b[0mareas\u001b[0m\u001b[0;34m)\u001b[0m\u001b[0;34m\u001b[0m\u001b[0m\n\u001b[0m\u001b[1;32m      6\u001b[0m \u001b[0;34m\u001b[0m\u001b[0m\n\u001b[1;32m      7\u001b[0m \u001b[0;32mdef\u001b[0m \u001b[0mextractField\u001b[0m\u001b[0;34m(\u001b[0m\u001b[0mfileName\u001b[0m\u001b[0;34m,\u001b[0m \u001b[0mn\u001b[0m\u001b[0;34m)\u001b[0m\u001b[0;34m:\u001b[0m\u001b[0;34m\u001b[0m\u001b[0m\n",
      "\u001b[0;32m<ipython-input-25-5117dbf8c047>\u001b[0m in \u001b[0;36mdisplaySomeStatistics\u001b[0;34m(listofNumbers)\u001b[0m\n\u001b[1;32m     13\u001b[0m \u001b[0;32mdef\u001b[0m \u001b[0mdisplaySomeStatistics\u001b[0m\u001b[0;34m(\u001b[0m\u001b[0mlistofNumbers\u001b[0m\u001b[0;34m)\u001b[0m\u001b[0;34m:\u001b[0m\u001b[0;34m\u001b[0m\u001b[0m\n\u001b[1;32m     14\u001b[0m     \u001b[0;31m## Display the average, median, and standard deviation of the areas.\u001b[0m\u001b[0;34m\u001b[0m\u001b[0;34m\u001b[0m\u001b[0m\n\u001b[0;32m---> 15\u001b[0;31m     \u001b[0maverage\u001b[0m \u001b[0;34m=\u001b[0m \u001b[0msum\u001b[0m\u001b[0;34m(\u001b[0m\u001b[0mlistOfNumbers\u001b[0m\u001b[0;34m)\u001b[0m \u001b[0;34m/\u001b[0m \u001b[0mlen\u001b[0m\u001b[0;34m(\u001b[0m\u001b[0mlistOfNumbers\u001b[0m\u001b[0;34m)\u001b[0m\u001b[0;34m\u001b[0m\u001b[0m\n\u001b[0m\u001b[1;32m     16\u001b[0m     \u001b[0mmedian\u001b[0m \u001b[0;34m=\u001b[0m \u001b[0mcalculateMedian\u001b[0m\u001b[0;34m(\u001b[0m\u001b[0mlistOfNumbers\u001b[0m\u001b[0;34m)\u001b[0m\u001b[0;34m\u001b[0m\u001b[0m\n\u001b[1;32m     17\u001b[0m     \u001b[0mstandardDeviation\u001b[0m \u001b[0;34m=\u001b[0m \u001b[0mcalculateStandardDeviation\u001b[0m\u001b[0;34m(\u001b[0m\u001b[0mlistOfNumbers\u001b[0m\u001b[0;34m,\u001b[0m \u001b[0maverage\u001b[0m\u001b[0;34m)\u001b[0m\u001b[0;34m\u001b[0m\u001b[0m\n",
      "\u001b[0;31mNameError\u001b[0m: name 'listOfNumbers' is not defined"
     ]
    }
   ],
   "source": [
    "def main():\n",
    "    ## Do statistical analysis of country's areas.\n",
    "    areasAsStrings = extractField(\"UN.txt\", 4) # place areas in a list.\n",
    "    areas = [eval(num) for num in areasAsStrings]\n",
    "    displaySomeStatistics(areas)\n",
    "    \n",
    "def extractField(fileName, n):\n",
    "    ## Extract the nth field from each record of a CSV file\n",
    "    ## and place the data into a list.\n",
    "    infile = open(fileName, 'r')\n",
    "    return [line.rstrip().split(',')[n - 1] for line in infile]\n",
    "\n",
    "def displaySomeStatistics(listofNumbers):\n",
    "    ## Display the average, median, and standard deviation of the areas. \n",
    "    average = sum(listOfNumbers) / len(listOfNumbers)\n",
    "    median = calculateMedian(listOfNumbers)\n",
    "    standardDeviation = calculateStandardDeviation(listOfNumbers, average)\n",
    "    print(\"Average area: {0:,.2f} square miles\".format(average))\n",
    "    print(\"Median area: {0:,d} square miles\".format(median))\n",
    "    print(\"Standard deviation: {0:,.2f} square miles\".format(standardDeviation))\n",
    "    \n",
    "def calculateMedian(listOfNumbers):\n",
    "    listOfNumbers.sort()\n",
    "    if len(listOfNumbers) % 2 == 1:\n",
    "        median = listOfNumbers[int(len(listOfNumbers) / 2)] #middle number\n",
    "    else:\n",
    "        # median will be the average of the two middle numbers.\n",
    "        m = int(len(listOfNumbers) / 2)\n",
    "        median = (listOfNumbers[m] + listOfNumbers[m + 1]) / 2\n",
    "    return median\n",
    "\n",
    "def calculateStandardDeviation(listOfNumbers, average):\n",
    "    m = average\n",
    "    n = len(listOfNumbers)\n",
    "    listOfSquaresOfDeviations = [0] * n\n",
    "    for i in range(n):\n",
    "        listOfSquaresOfDeviations[i] = (listOfNumbers[i] - m) ** 2\n",
    "    standardDeviation = (sum(listOfSquaresOfDeviations) / n) ** .5\n",
    "    return standardDeviation\n",
    "\n",
    "main()\n",
    "\n"
   ]
  },
  {
   "cell_type": "code",
   "execution_count": null,
   "metadata": {
    "collapsed": true
   },
   "outputs": [],
   "source": []
  }
 ],
 "metadata": {
  "celltoolbar": "Raw Cell Format",
  "kernelspec": {
   "display_name": "Python 3",
   "language": "python",
   "name": "python3"
  },
  "language_info": {
   "codemirror_mode": {
    "name": "ipython",
    "version": 3
   },
   "file_extension": ".py",
   "mimetype": "text/x-python",
   "name": "python",
   "nbconvert_exporter": "python",
   "pygments_lexer": "ipython3",
   "version": "3.5.2"
  }
 },
 "nbformat": 4,
 "nbformat_minor": 0
}
